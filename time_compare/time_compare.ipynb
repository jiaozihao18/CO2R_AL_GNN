{
 "cells": [
  {
   "cell_type": "code",
   "execution_count": 1,
   "metadata": {},
   "outputs": [],
   "source": [
    "from ocpmodels.common.relaxation.ase_utils import OCPCalculator\n",
    "import os\n",
    "import torch\n",
    "from ase.db import connect\n",
    "from tqdm import tqdm\n",
    "import numpy as np\n",
    "import time"
   ]
  },
  {
   "cell_type": "code",
   "execution_count": 2,
   "metadata": {},
   "outputs": [],
   "source": [
    "def get_pt_files(directory):\n",
    "    pt_files = []\n",
    "    for root, dirs, files in os.walk(directory):\n",
    "        for file in files:\n",
    "            if file.endswith(\".pt\"):\n",
    "                pt_files.append(os.path.join(root, file))\n",
    "    return pt_files"
   ]
  },
  {
   "cell_type": "code",
   "execution_count": 3,
   "metadata": {},
   "outputs": [],
   "source": [
    "db = connect(\"1model_compare.db\")\n",
    "atoms_l = [row.toatoms() for row in db.select()]\n",
    "f_dft_l = [atoms.get_forces() for atoms in atoms_l]"
   ]
  },
  {
   "cell_type": "code",
   "execution_count": 4,
   "metadata": {},
   "outputs": [
    {
     "name": "stderr",
     "output_type": "stream",
     "text": [
      "/mnt/anaconda3/envs/zihao_env/lib/python3.11/site-packages/torch/nn/modules/conv.py:306: UserWarning: Applied workaround for CuDNN issue, install nvrtc.so (Triggered internally at /opt/conda/conda-bld/pytorch_1682343995622/work/aten/src/ATen/native/cudnn/Conv_v8.cpp:80.)\n",
      "  return F.conv1d(F.pad(input, self._reversed_padding_repeated_twice, mode=self.padding_mode),\n"
     ]
    },
    {
     "name": "stdout",
     "output_type": "stream",
     "text": [
      "spinconv_force_centric_2M.pt 0.34110718189396766 0.02317709666321024 8473371 3.165\n",
      "scn_all_md_s2ef.pt 0.22927953601253248 0.02720846583820647 168921090 25.198\n",
      "gemnet_t_direct_h512_2M.pt 0.27900381109225014 0.027173708963477143 31671825 1.301\n",
      "schnet_200k.pt 0.04999883437251112 0.013517339493401776 5704193 0.615\n",
      "escn_l6_m2_lay12_all_md_s2ef.pt 0.19775642180061 0.025513182181898287 51844608 5.469\n",
      "dimenetpp_200k.pt 0.2529661740943477 0.018501487097748626 1810182 3.035\n",
      "escn_l6_m2_lay12_2M_s2ef.pt 0.3085905253222206 0.023051683920072036 51844608 5.736\n"
     ]
    },
    {
     "name": "stderr",
     "output_type": "stream",
     "text": [
      "WARNING:root:Skipping scheduler setup. No training set found.\n"
     ]
    },
    {
     "name": "stdout",
     "output_type": "stream",
     "text": [
      "eq2_83M_2M.pt 0.28574598251964933 0.02526135544242244 83164802 5.625\n",
      "escn_l4_m2_lay12_2M_s2ef.pt 0.2165425177967108 0.023020795310581675 36112896 5.326\n",
      "scn_t1_b1_s2ef_2M.pt 0.221690568137876 0.021813690721458803 123561474 11.453\n",
      "schnet_20M.pt 0.6935090640721074 0.04035769935060489 9088513 0.727\n",
      "painn_h512_s2ef_all.pt 0.28298535644036255 0.02176883813218182 20073481 0.828\n",
      "scn_t4_b2_s2ef_2M.pt 0.3635444927499501 0.02452655518997509 126710274 17.211\n"
     ]
    },
    {
     "name": "stderr",
     "output_type": "stream",
     "text": [
      "WARNING:root:Skipping scheduler setup. No training set found.\n"
     ]
    },
    {
     "name": "stdout",
     "output_type": "stream",
     "text": [
      "eq2_31M_ec4_allmd.pt 0.18179591022429295 0.024480499182563648 31058690 3.803\n",
      "spinconv_force_centric_all.pt 0.2682144231150142 0.02463537885678031 8473371 2.733\n",
      "dimenetpp_all.pt 0.3734772821838549 0.03296979773613204 1810182 3.292\n",
      "escn_l6_m3_lay20_all_md_s2ef.pt 0.25788701904841865 0.03093125334368715 200234496 11.023\n"
     ]
    },
    {
     "name": "stderr",
     "output_type": "stream",
     "text": [
      "WARNING:root:Skipping scheduler setup. No training set found.\n"
     ]
    },
    {
     "name": "stdout",
     "output_type": "stream",
     "text": [
      "eq2_153M_ec4_allmd.pt 0.23705128624054386 0.028931406512820584 153602690 9.542\n",
      "dimenetpp_2M.pt 0.41999582492193366 0.03373823264567013 1810182 3.154\n",
      "schnet_all_large.pt 0.4113086718347453 0.06412513237039072 9088513 0.785\n",
      "schnet_2M.pt 0.5521859449950031 0.03064488962206107 9088513 0.730\n",
      "dimenetpp_20M.pt 0.50419820801938 0.03294546908488895 1810182 3.024\n"
     ]
    },
    {
     "name": "stderr",
     "output_type": "stream",
     "text": [
      "WARNING:root:Unrecognized arguments: ['symmetric_edge_symmetrization']\n"
     ]
    },
    {
     "name": "stdout",
     "output_type": "stream",
     "text": [
      "gemnet_t_direct_h512_all.pt 0.3219040724331238 0.03232864744843634 31671825 1.271\n",
      "gemnet_oc_base_s2ef_all.pt 0.26670431936045075 0.03439738334800376 38864438 3.423\n"
     ]
    },
    {
     "name": "stderr",
     "output_type": "stream",
     "text": [
      "WARNING:root:Unrecognized arguments: ['symmetric_edge_symmetrization']\n"
     ]
    },
    {
     "name": "stdout",
     "output_type": "stream",
     "text": [
      "gemnet_oc_large_s2ef_all_md.pt 0.26698158343146094 0.03573003225206806 216408144 5.108\n",
      "cgcnn_20M.pt 3.3007072074237382 0.2006684284000295 3611649 0.584\n"
     ]
    },
    {
     "name": "stderr",
     "output_type": "stream",
     "text": [
      "WARNING:root:Unrecognized arguments: ['symmetric_edge_symmetrization']\n"
     ]
    },
    {
     "name": "stdout",
     "output_type": "stream",
     "text": [
      "cgcnn_all.pt 3.4609059260323063 0.19497880233654433 3611649 0.567\n",
      "gemnet_oc_base_s2ef_2M.pt 0.2637933305845974 0.02365721314116364 38864438 3.411\n",
      "dimenet_2M.pt 0.5206047457080465 0.03564879529541184 775206 2.866\n"
     ]
    },
    {
     "name": "stderr",
     "output_type": "stream",
     "text": [
      "WARNING:root:Unrecognized arguments: ['symmetric_edge_symmetrization']\n"
     ]
    },
    {
     "name": "stdout",
     "output_type": "stream",
     "text": [
      "cgcnn_200k.pt 1.3294208064635973 0.07857945529963299 245889 0.496\n",
      "gemnet_oc_base_s2ef_all_md.pt 0.2520762141072302 0.031208742318633294 38864438 3.528\n",
      "cgcnn_2M.pt 3.451738451978899 0.22388876688510856 2127233 0.601\n",
      "dimenet_200k.pt 0.6842350310410088 0.04225173051612203 725670 2.848\n"
     ]
    }
   ],
   "source": [
    "directory = \"web_ml_ocp/checkpoint\"\n",
    "pt_files = get_pt_files(directory)\n",
    "\n",
    "normalizer = {'normalize_labels': True,\n",
    "              'target_mean': -0.7554450631141663,\n",
    "              'target_std': 2.887317180633545,\n",
    "              'grad_target_mean': 0.0,\n",
    "              'grad_target_std': 2.887317180633545}\n",
    "\n",
    "db = connect(\"1model_compare.db\")\n",
    "\n",
    "for file in pt_files:\n",
    "    \n",
    "    checkpoint = torch.load(file, map_location=torch.device(\"cpu\"))\n",
    "    config = checkpoint[\"config\"]\n",
    "    config[\"normalizer\"] = normalizer\n",
    "    config[\"amp\"] = False\n",
    "    \n",
    "    if 'warmup_epochs' in config['optim']:\n",
    "        del config['optim']['warmup_epochs']\n",
    "        config['optim']['warmup_steps'] = 348786\n",
    "        config['optim']['lr_milestones'] = [523179, 871966, 1220752]\n",
    "    \n",
    "    calc = OCPCalculator(config_yml=config, checkpoint_path=file, cpu=False)\n",
    "    params = calc.trainer.model.module.num_params\n",
    "    \n",
    "    f_ml_l = []\n",
    "    time_ini = time.time()\n",
    "    for atoms in atoms_l:\n",
    "        atoms.calc = calc\n",
    "        f_ml_l.append(atoms.get_forces())\n",
    "    time_used = time.time() - time_ini\n",
    "    \n",
    "    fe_l = []\n",
    "    for f_dft, f_ml in zip(f_dft_l, f_ml_l):\n",
    "        fe = np.linalg.norm(f_dft-f_ml, axis=1)\n",
    "        fe_l.extend(fe.tolist())\n",
    "    \n",
    "    print(os.path.basename(file), np.max(fe_l), np.mean(fe_l), params, \"%.3f\"%time_used)"
   ]
  }
 ],
 "metadata": {
  "kernelspec": {
   "display_name": "zihao_env",
   "language": "python",
   "name": "python3"
  },
  "language_info": {
   "codemirror_mode": {
    "name": "ipython",
    "version": 3
   },
   "file_extension": ".py",
   "mimetype": "text/x-python",
   "name": "python",
   "nbconvert_exporter": "python",
   "pygments_lexer": "ipython3",
   "version": "3.11.5"
  }
 },
 "nbformat": 4,
 "nbformat_minor": 2
}
